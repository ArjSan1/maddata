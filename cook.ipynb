{
 "cells": [
  {
   "cell_type": "code",
   "execution_count": 87,
   "metadata": {},
   "outputs": [],
   "source": [
    "#!pip install scikit-learn"
   ]
  },
  {
   "cell_type": "code",
   "execution_count": 88,
   "metadata": {},
   "outputs": [
    {
     "data": {
      "text/html": [
       "<div>\n",
       "<style scoped>\n",
       "    .dataframe tbody tr th:only-of-type {\n",
       "        vertical-align: middle;\n",
       "    }\n",
       "\n",
       "    .dataframe tbody tr th {\n",
       "        vertical-align: top;\n",
       "    }\n",
       "\n",
       "    .dataframe thead th {\n",
       "        text-align: right;\n",
       "    }\n",
       "</style>\n",
       "<table border=\"1\" class=\"dataframe\">\n",
       "  <thead>\n",
       "    <tr style=\"text-align: right;\">\n",
       "      <th></th>\n",
       "      <th>price_normalized</th>\n",
       "      <th>production_normalized</th>\n",
       "      <th>temperature_normalized</th>\n",
       "      <th>weighted_score</th>\n",
       "    </tr>\n",
       "  </thead>\n",
       "  <tbody>\n",
       "    <tr>\n",
       "      <th>0</th>\n",
       "      <td>0.224839</td>\n",
       "      <td>0.616553</td>\n",
       "      <td>0.000000</td>\n",
       "      <td>0.280464</td>\n",
       "    </tr>\n",
       "    <tr>\n",
       "      <th>1</th>\n",
       "      <td>0.162741</td>\n",
       "      <td>1.000000</td>\n",
       "      <td>0.042947</td>\n",
       "      <td>0.401896</td>\n",
       "    </tr>\n",
       "    <tr>\n",
       "      <th>2</th>\n",
       "      <td>1.000000</td>\n",
       "      <td>0.182375</td>\n",
       "      <td>0.297433</td>\n",
       "      <td>0.493269</td>\n",
       "    </tr>\n",
       "    <tr>\n",
       "      <th>3</th>\n",
       "      <td>0.794433</td>\n",
       "      <td>0.081073</td>\n",
       "      <td>0.511454</td>\n",
       "      <td>0.462320</td>\n",
       "    </tr>\n",
       "    <tr>\n",
       "      <th>4</th>\n",
       "      <td>0.956103</td>\n",
       "      <td>0.423607</td>\n",
       "      <td>0.747821</td>\n",
       "      <td>0.709177</td>\n",
       "    </tr>\n",
       "  </tbody>\n",
       "</table>\n",
       "</div>"
      ],
      "text/plain": [
       "   price_normalized  production_normalized  temperature_normalized  \\\n",
       "0          0.224839               0.616553                0.000000   \n",
       "1          0.162741               1.000000                0.042947   \n",
       "2          1.000000               0.182375                0.297433   \n",
       "3          0.794433               0.081073                0.511454   \n",
       "4          0.956103               0.423607                0.747821   \n",
       "\n",
       "   weighted_score  \n",
       "0        0.280464  \n",
       "1        0.401896  \n",
       "2        0.493269  \n",
       "3        0.462320  \n",
       "4        0.709177  "
      ]
     },
     "execution_count": 88,
     "metadata": {},
     "output_type": "execute_result"
    }
   ],
   "source": [
    "from sklearn.ensemble import RandomForestRegressor\n",
    "from sklearn.model_selection import train_test_split, cross_val_score, KFold, cross_validate\n",
    "from sklearn.metrics import mean_squared_error, r2_score\n",
    "from sklearn.datasets import make_regression\n",
    "import pandas as pd\n",
    "import numpy as np\n",
    "import csv, sklearn, os\n",
    "\n",
    "data_dir = os.path.join(os.getcwd(), 'data', 'wheat.csv')\n",
    "\n",
    "with open(data_dir, 'r') as file:\n",
    "    df = pd.read_csv(file)\n",
    "    df.rename(columns={'value': 'temperature'}, inplace=True)\n",
    "\n",
    "\n",
    "def normalize_column(data, column_name):\n",
    "    \"\"\"\n",
    "    Normalizes the specified column in the DataFrame using Min-Max scaling.\n",
    "\n",
    "    Parameters:\n",
    "    - data: Pandas DataFrame containing the data.\n",
    "    - column_name: The name of the column to be normalized.\n",
    "\n",
    "    Returns:\n",
    "    - A Pandas DataFrame with the specified column normalized.\n",
    "    \"\"\"\n",
    "    min_val = data[column_name].min()\n",
    "    max_val = data[column_name].max()\n",
    "    data[column_name + '_normalized'] = (data[column_name] - min_val) / (max_val - min_val)\n",
    "    return data\n",
    "\n",
    "# Normalize the 'price', 'production', and 'value' (temperature) columns\n",
    "norm_df= df.copy()\n",
    "norm_cols = ['price', 'production', 'temperature']\n",
    "for column in norm_cols:\n",
    "    norm_df = normalize_column(norm_df, column)\n",
    "    \n",
    "norm_df[\"weighted_score\"] = (norm_df[\"price_normalized\"] + norm_df[\"production_normalized\"] + norm_df[\"temperature_normalized\"])/3\n",
    "norm_df = norm_df.drop(columns=norm_df.columns[0:4])\n",
    "\n",
    "norm_df.head()\n",
    "\n"
   ]
  },
  {
   "cell_type": "code",
   "execution_count": 89,
   "metadata": {},
   "outputs": [
    {
     "name": "stdout",
     "output_type": "stream",
     "text": [
      "Mean Squared Error: 0.005422908594556093 \n",
      "Root Mean Squared Error: 0.07364040055944898 \n",
      "R^2 Score: 0.33074802003361214\n"
     ]
    }
   ],
   "source": [
    "# Assuming 'df' is your DataFrame and 'target' is the name of your target column\n",
    "\n",
    "#random_state=42\n",
    "\n",
    "# 1. Prepare the data\n",
    "X = norm_df.drop(columns=['weighted_score'])  # Features (remove the target column and any non-feature columns)\n",
    "y = norm_df['weighted_score']  # Target variable\n",
    "\n",
    "# 2. Split the data into training and testing sets\n",
    "X_train, X_test, y_train, y_test = train_test_split(X, y, test_size=0.2)\n",
    "\n",
    "# 3. Create the Random Forest model\n",
    "rf_model = RandomForestRegressor(n_estimators=1000) # Use RandomForestRegressor if it's a regression problem\n",
    "\n",
    "# 4. Train the model\n",
    "rf_model.fit(X_train, y_train)\n",
    "\n",
    "# 5. Evaluate the model\n",
    "y_pred = rf_model.predict(X_test)\n",
    "mse = mean_squared_error(y_test, y_pred)\n",
    "rmse = np.sqrt(mse)\n",
    "r2s = r2_score(y_test, y_pred)\n",
    "print(f\"Mean Squared Error: {mse} \\nRoot Mean Squared Error: {rmse} \\nR^2 Score: {r2s}\")"
   ]
  },
  {
   "cell_type": "code",
   "execution_count": 90,
   "metadata": {},
   "outputs": [
    {
     "name": "stdout",
     "output_type": "stream",
     "text": [
      "Mean Squared Error: 0.018 (+/- 0.015)\n",
      "Root Mean Squared Error: 0.122 (+/- 0.056)\n",
      "R^2 Score: -0.023 (std: 0.366)\n"
     ]
    }
   ],
   "source": [
    "# Simulate a regression dataset\n",
    "X = norm_df.drop(columns=['weighted_score'])  # Features (remove the target column and any non-feature columns)\n",
    "y = norm_df['weighted_score']  # Target variable\n",
    "\n",
    "# Create a random forest regressor model\n",
    "model = RandomForestRegressor(n_estimators=1000)\n",
    "\n",
    "# Configure the cross-validation procedure\n",
    "cv = KFold(n_splits=3, shuffle=True)\n",
    "\n",
    "\n",
    "# Define multiple scoring metrics\n",
    "scoring = {'MSE': 'neg_mean_squared_error', 'R2': 'r2'}\n",
    "\n",
    "# Execute the cross-validation procedure using mean squared error\n",
    "scores = cross_validate(model, X, y, scoring=scoring, cv=cv, n_jobs=-1)\n",
    "\n",
    "# Convert scores to positive as cross_val_score returns negative values for MSE to optimize towards zero\n",
    "mse_scores = -scores['test_MSE']\n",
    "\n",
    "# Report performance\n",
    "print(f'Mean Squared Error: {mse_scores.mean():.3f} (+/- {mse_scores.std():.3f})')\n",
    "print(f'Root Mean Squared Error: {np.sqrt(mse_scores).mean():.3f} (+/- {np.sqrt(mse_scores).std():.3f})')\n",
    "print(f\"R^2 Score: {scores['test_R2'].mean():.3f} (std: {scores['test_R2'].std():.3f})\")"
   ]
  }
 ],
 "metadata": {
  "kernelspec": {
   "display_name": "Python 3",
   "language": "python",
   "name": "python3"
  },
  "language_info": {
   "codemirror_mode": {
    "name": "ipython",
    "version": 3
   },
   "file_extension": ".py",
   "mimetype": "text/x-python",
   "name": "python",
   "nbconvert_exporter": "python",
   "pygments_lexer": "ipython3",
   "version": "3.9.13"
  }
 },
 "nbformat": 4,
 "nbformat_minor": 2
}
